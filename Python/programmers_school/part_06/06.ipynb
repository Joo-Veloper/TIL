{
 "cells": [
  {
   "attachments": {},
   "cell_type": "markdown",
   "metadata": {},
   "source": [
    "### 비교연산자\n",
    "조합 : = > < !"
   ]
  },
  {
   "cell_type": "code",
   "execution_count": 5,
   "metadata": {},
   "outputs": [
    {
     "data": {
      "text/plain": [
       "True"
      ]
     },
     "execution_count": 5,
     "metadata": {},
     "output_type": "execute_result"
    }
   ],
   "source": [
    "3>5\n",
    "5>=3\n",
    "3==3\n",
    "3!=3"
   ]
  },
  {
   "cell_type": "code",
   "execution_count": 8,
   "metadata": {},
   "outputs": [
    {
     "name": "stdout",
     "output_type": "stream",
     "text": [
      "True\n",
      "False\n",
      "False\n",
      "False\n",
      "False\n"
     ]
    }
   ],
   "source": [
    "print(True and True)\n",
    "print(True and False)\n",
    "print(False and False)\n",
    "print(3>5 and 5>3)\n",
    "print(5>3 and 3>5)\n",
    "\n"
   ]
  },
  {
   "cell_type": "code",
   "execution_count": 9,
   "metadata": {},
   "outputs": [
    {
     "name": "stdout",
     "output_type": "stream",
     "text": [
      "True\n",
      "True\n",
      "True\n",
      "False\n"
     ]
    }
   ],
   "source": [
    "print(True or True)\n",
    "print(True or False)\n",
    "print(False or True)\n",
    "print(False or False)\n"
   ]
  },
  {
   "cell_type": "code",
   "execution_count": 12,
   "metadata": {},
   "outputs": [
    {
     "data": {
      "text/plain": [
       "False"
      ]
     },
     "execution_count": 12,
     "metadata": {},
     "output_type": "execute_result"
    }
   ],
   "source": [
    "not 3>5\n",
    "not True"
   ]
  },
  {
   "cell_type": "code",
   "execution_count": 8,
   "metadata": {},
   "outputs": [
    {
     "data": {
      "text/plain": [
       "False"
      ]
     },
     "execution_count": 8,
     "metadata": {},
     "output_type": "execute_result"
    }
   ],
   "source": [
    "not 1"
   ]
  },
  {
   "attachments": {},
   "cell_type": "markdown",
   "metadata": {},
   "source": [
    "###  is 연산자"
   ]
  },
  {
   "cell_type": "code",
   "execution_count": 4,
   "metadata": {},
   "outputs": [],
   "source": [
    "#is 연산자(id값, 메모리 주소), == 비교 연산자(값, 크기)\n",
    "score_A=[80,70,60]\n",
    "score_B=score_A\n",
    "\n"
   ]
  },
  {
   "cell_type": "code",
   "execution_count": 9,
   "metadata": {},
   "outputs": [
    {
     "name": "stdout",
     "output_type": "stream",
     "text": [
      "True\n",
      "True\n"
     ]
    }
   ],
   "source": [
    "print(score_A is score_B)\n",
    "print(score_A==score_B)\n"
   ]
  },
  {
   "attachments": {},
   "cell_type": "markdown",
   "metadata": {},
   "source": [
    "###### 불리언(boolean) , 불(bool) 모든 데이터는 Ture False로 변환될수 있음 앞으로 배울 모든 데이터 타입 조차not and or연산이 된다. Flase로 처리되는 데이터 True로 처리되는 데이터 False 데이터만 알면 True는 쉬움\n",
    "###### 모든 객체는 논리값을 검사할 수 있는데 if 또는 while 조건 또는 다음에 나오는 논리 연산의 피연산자로 사용될 수 있도록 합니다.\n",
    "###### 기본적으로 객체는 클래스가 그 객체에 대해 호출될 때 Flase를 돌려주는 __bool__()메서드나 0을 돌려주는 __len__()메서드를 정의하지 않는 한 참으로 간주합니다. [1]여기에 거짓으로 간주하는 대부분의 내장 객체들이 있습니다. \n",
    "  - 거짓으로 저의된 상수 None과 False.\n",
    "  - 모든 숫자 형들의 영 0,0.0,0j, decimal(0), Fraction(0,1)\n",
    "  - 빈 시퀀스와 컬렉션:' '. (), [], {}. set(), range(0)\n",
    "###### 논리값을 돌려주는 연산과 내장 함수는 달리 명시하지 않는 한 항상 거짓의 경우 0이나false를 참이면 1 이나 True를 돌려줍니다.(중요한 예외 논리연산 or과 and는 항상 피연산자 중 하나를 돌려줍니다.)"
   ]
  },
  {
   "attachments": {},
   "cell_type": "markdown",
   "metadata": {},
   "source": []
  },
  {
   "attachments": {},
   "cell_type": "markdown",
   "metadata": {},
   "source": []
  }
 ],
 "metadata": {
  "kernelspec": {
   "display_name": "Python 3",
   "language": "python",
   "name": "python3"
  },
  "language_info": {
   "codemirror_mode": {
    "name": "ipython",
    "version": 3
   },
   "file_extension": ".py",
   "mimetype": "text/x-python",
   "name": "python",
   "nbconvert_exporter": "python",
   "pygments_lexer": "ipython3",
   "version": "3.7.3"
  },
  "orig_nbformat": 4
 },
 "nbformat": 4,
 "nbformat_minor": 2
}
